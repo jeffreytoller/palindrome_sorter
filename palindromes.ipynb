{
 "cells": [
  {
   "cell_type": "code",
   "execution_count": 36,
   "metadata": {},
   "outputs": [
    {
     "name": "stdout",
     "output_type": "stream",
     "text": [
      "{'palindrome': ['kayak', 'deified', 'rotator', 'repaper', 'deed', 'peep', 'wow', 'noon'], 'not palindrome': ['stacked', 'bored', 'fried', 'turkeys', 'batton', 'tiger', 'lions', 'bears']}\n"
     ]
    }
   ],
   "source": [
    "words = ['stacked','bored' ,'kayak', 'deified',\n",
    " 'rotator' ,'repaper', 'deed', 'peep' ,'wow' ,'noon',\n",
    " 'fried', 'turkeys', 'batton', 'tiger','lions', 'bears']\n",
    "pal_dict = {'palindrome':[],'not palindrome':[]}\n",
    "for word in words:\n",
    "    if word == word[::-1]:\n",
    "        word_state = 'palindrome'\n",
    "    else:\n",
    "        word_state = 'not palindrome'\n",
    "    pal_dict[word_state].append(word)\n",
    "print(pal_dict)"
   ]
  },
  {
   "cell_type": "code",
   "execution_count": null,
   "metadata": {},
   "outputs": [],
   "source": []
  }
 ],
 "metadata": {
  "kernelspec": {
   "display_name": "Python 3.9.12 ('base')",
   "language": "python",
   "name": "python3"
  },
  "language_info": {
   "name": "python",
   "version": "3.9.12"
  },
  "orig_nbformat": 4,
  "vscode": {
   "interpreter": {
    "hash": "3f0653bd30555679cc60e5853b2204587bc8607f0666d413a468e937b04317b4"
   }
  }
 },
 "nbformat": 4,
 "nbformat_minor": 2
}
